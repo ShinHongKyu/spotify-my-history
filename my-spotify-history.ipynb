{
 "cells": [
  {
   "cell_type": "markdown",
   "metadata": {},
   "source": [
    "# 음악 취향 분석 프로젝트\n",
    "## 문제 정의\n",
    "* 음악 청취 습관 또는 취향에 변화가 있었을지 파악하고자 한다.\n",
    "### 구체적인 문제 정의\n",
    "* 음악을 청취하는 시간대, 청취 시간에 변화가 있을 것이다.\n",
    "* 특정 음악을 유난히 많이 청취하거나 스킵할 것이다.\n",
    "* 특별히 많이 듣는 음악에 변화가 있을 것이다."
   ]
  },
  {
   "cell_type": "code",
   "execution_count": 1,
   "metadata": {},
   "outputs": [],
   "source": [
    "import pandas as pd\n",
    "pd.set_option('display.max_columns', 100)"
   ]
  },
  {
   "cell_type": "code",
   "execution_count": 2,
   "metadata": {},
   "outputs": [
    {
     "name": "stdout",
     "output_type": "stream",
     "text": [
      "(10000, 4) (7589, 4)\n"
     ]
    }
   ],
   "source": [
    "# 스트리밍 내역\n",
    "history_1= pd.read_json('./account/StreamingHistory0.json')\n",
    "history_2= pd.read_json('./account/StreamingHistory1.json')\n",
    "\n",
    "print(history_1.shape, history_2.shape)"
   ]
  },
  {
   "cell_type": "code",
   "execution_count": 3,
   "metadata": {},
   "outputs": [
    {
     "data": {
      "text/html": [
       "<div>\n",
       "<style scoped>\n",
       "    .dataframe tbody tr th:only-of-type {\n",
       "        vertical-align: middle;\n",
       "    }\n",
       "\n",
       "    .dataframe tbody tr th {\n",
       "        vertical-align: top;\n",
       "    }\n",
       "\n",
       "    .dataframe thead th {\n",
       "        text-align: right;\n",
       "    }\n",
       "</style>\n",
       "<table border=\"1\" class=\"dataframe\">\n",
       "  <thead>\n",
       "    <tr style=\"text-align: right;\">\n",
       "      <th></th>\n",
       "      <th>endTime</th>\n",
       "      <th>artistName</th>\n",
       "      <th>trackName</th>\n",
       "      <th>msPlayed</th>\n",
       "    </tr>\n",
       "  </thead>\n",
       "  <tbody>\n",
       "    <tr>\n",
       "      <th>0</th>\n",
       "      <td>2022-11-08 13:26</td>\n",
       "      <td>Disciple</td>\n",
       "      <td>Dear X, You Don't Own Me</td>\n",
       "      <td>121303</td>\n",
       "    </tr>\n",
       "    <tr>\n",
       "      <th>1</th>\n",
       "      <td>2022-11-08 14:16</td>\n",
       "      <td>Hollywood Undead</td>\n",
       "      <td>Day Of The Dead</td>\n",
       "      <td>99912</td>\n",
       "    </tr>\n",
       "    <tr>\n",
       "      <th>2</th>\n",
       "      <td>2022-11-09 01:47</td>\n",
       "      <td>Slipknot</td>\n",
       "      <td>Duality</td>\n",
       "      <td>252613</td>\n",
       "    </tr>\n",
       "    <tr>\n",
       "      <th>3</th>\n",
       "      <td>2022-11-09 01:51</td>\n",
       "      <td>All Good Things</td>\n",
       "      <td>For the Glory</td>\n",
       "      <td>279308</td>\n",
       "    </tr>\n",
       "    <tr>\n",
       "      <th>4</th>\n",
       "      <td>2022-11-09 01:55</td>\n",
       "      <td>Solence</td>\n",
       "      <td>Animal in Me</td>\n",
       "      <td>5665</td>\n",
       "    </tr>\n",
       "  </tbody>\n",
       "</table>\n",
       "</div>"
      ],
      "text/plain": [
       "            endTime        artistName                 trackName  msPlayed\n",
       "0  2022-11-08 13:26          Disciple  Dear X, You Don't Own Me    121303\n",
       "1  2022-11-08 14:16  Hollywood Undead           Day Of The Dead     99912\n",
       "2  2022-11-09 01:47          Slipknot                   Duality    252613\n",
       "3  2022-11-09 01:51   All Good Things             For the Glory    279308\n",
       "4  2022-11-09 01:55           Solence              Animal in Me      5665"
      ]
     },
     "execution_count": 3,
     "metadata": {},
     "output_type": "execute_result"
    }
   ],
   "source": [
    "history_1.head()"
   ]
  },
  {
   "cell_type": "code",
   "execution_count": 4,
   "metadata": {},
   "outputs": [
    {
     "data": {
      "text/html": [
       "<div>\n",
       "<style scoped>\n",
       "    .dataframe tbody tr th:only-of-type {\n",
       "        vertical-align: middle;\n",
       "    }\n",
       "\n",
       "    .dataframe tbody tr th {\n",
       "        vertical-align: top;\n",
       "    }\n",
       "\n",
       "    .dataframe thead th {\n",
       "        text-align: right;\n",
       "    }\n",
       "</style>\n",
       "<table border=\"1\" class=\"dataframe\">\n",
       "  <thead>\n",
       "    <tr style=\"text-align: right;\">\n",
       "      <th></th>\n",
       "      <th>endTime</th>\n",
       "      <th>artistName</th>\n",
       "      <th>trackName</th>\n",
       "      <th>msPlayed</th>\n",
       "    </tr>\n",
       "  </thead>\n",
       "  <tbody>\n",
       "    <tr>\n",
       "      <th>7584</th>\n",
       "      <td>2023-11-08 01:39</td>\n",
       "      <td>Fox Stevenson</td>\n",
       "      <td>Go Like</td>\n",
       "      <td>464</td>\n",
       "    </tr>\n",
       "    <tr>\n",
       "      <th>7585</th>\n",
       "      <td>2023-11-08 01:39</td>\n",
       "      <td>Amaranthe</td>\n",
       "      <td>Drop Dead Cynical</td>\n",
       "      <td>0</td>\n",
       "    </tr>\n",
       "    <tr>\n",
       "      <th>7586</th>\n",
       "      <td>2023-11-08 01:39</td>\n",
       "      <td>Virtual Riot</td>\n",
       "      <td>Energy Drink</td>\n",
       "      <td>281240</td>\n",
       "    </tr>\n",
       "    <tr>\n",
       "      <th>7587</th>\n",
       "      <td>2023-11-08 01:43</td>\n",
       "      <td>Dynazty</td>\n",
       "      <td>Heartless Madness</td>\n",
       "      <td>239866</td>\n",
       "    </tr>\n",
       "    <tr>\n",
       "      <th>7588</th>\n",
       "      <td>2023-11-08 01:47</td>\n",
       "      <td>Fox Stevenson</td>\n",
       "      <td>Go Like</td>\n",
       "      <td>233946</td>\n",
       "    </tr>\n",
       "  </tbody>\n",
       "</table>\n",
       "</div>"
      ],
      "text/plain": [
       "               endTime     artistName          trackName  msPlayed\n",
       "7584  2023-11-08 01:39  Fox Stevenson            Go Like       464\n",
       "7585  2023-11-08 01:39      Amaranthe  Drop Dead Cynical         0\n",
       "7586  2023-11-08 01:39   Virtual Riot       Energy Drink    281240\n",
       "7587  2023-11-08 01:43        Dynazty  Heartless Madness    239866\n",
       "7588  2023-11-08 01:47  Fox Stevenson            Go Like    233946"
      ]
     },
     "execution_count": 4,
     "metadata": {},
     "output_type": "execute_result"
    }
   ],
   "source": [
    "history_2.tail()"
   ]
  },
  {
   "cell_type": "code",
   "execution_count": 5,
   "metadata": {},
   "outputs": [
    {
     "data": {
      "text/html": [
       "<div>\n",
       "<style scoped>\n",
       "    .dataframe tbody tr th:only-of-type {\n",
       "        vertical-align: middle;\n",
       "    }\n",
       "\n",
       "    .dataframe tbody tr th {\n",
       "        vertical-align: top;\n",
       "    }\n",
       "\n",
       "    .dataframe thead th {\n",
       "        text-align: right;\n",
       "    }\n",
       "</style>\n",
       "<table border=\"1\" class=\"dataframe\">\n",
       "  <thead>\n",
       "    <tr style=\"text-align: right;\">\n",
       "      <th></th>\n",
       "      <th>endTime</th>\n",
       "      <th>artistName</th>\n",
       "      <th>trackName</th>\n",
       "      <th>msPlayed</th>\n",
       "    </tr>\n",
       "  </thead>\n",
       "  <tbody>\n",
       "    <tr>\n",
       "      <th>0</th>\n",
       "      <td>2022-11-08 13:26</td>\n",
       "      <td>Disciple</td>\n",
       "      <td>Dear X, You Don't Own Me</td>\n",
       "      <td>121303</td>\n",
       "    </tr>\n",
       "    <tr>\n",
       "      <th>1</th>\n",
       "      <td>2022-11-08 14:16</td>\n",
       "      <td>Hollywood Undead</td>\n",
       "      <td>Day Of The Dead</td>\n",
       "      <td>99912</td>\n",
       "    </tr>\n",
       "    <tr>\n",
       "      <th>2</th>\n",
       "      <td>2022-11-09 01:47</td>\n",
       "      <td>Slipknot</td>\n",
       "      <td>Duality</td>\n",
       "      <td>252613</td>\n",
       "    </tr>\n",
       "    <tr>\n",
       "      <th>3</th>\n",
       "      <td>2022-11-09 01:51</td>\n",
       "      <td>All Good Things</td>\n",
       "      <td>For the Glory</td>\n",
       "      <td>279308</td>\n",
       "    </tr>\n",
       "    <tr>\n",
       "      <th>4</th>\n",
       "      <td>2022-11-09 01:55</td>\n",
       "      <td>Solence</td>\n",
       "      <td>Animal in Me</td>\n",
       "      <td>5665</td>\n",
       "    </tr>\n",
       "    <tr>\n",
       "      <th>...</th>\n",
       "      <td>...</td>\n",
       "      <td>...</td>\n",
       "      <td>...</td>\n",
       "      <td>...</td>\n",
       "    </tr>\n",
       "    <tr>\n",
       "      <th>17584</th>\n",
       "      <td>2023-11-08 01:39</td>\n",
       "      <td>Fox Stevenson</td>\n",
       "      <td>Go Like</td>\n",
       "      <td>464</td>\n",
       "    </tr>\n",
       "    <tr>\n",
       "      <th>17585</th>\n",
       "      <td>2023-11-08 01:39</td>\n",
       "      <td>Amaranthe</td>\n",
       "      <td>Drop Dead Cynical</td>\n",
       "      <td>0</td>\n",
       "    </tr>\n",
       "    <tr>\n",
       "      <th>17586</th>\n",
       "      <td>2023-11-08 01:39</td>\n",
       "      <td>Virtual Riot</td>\n",
       "      <td>Energy Drink</td>\n",
       "      <td>281240</td>\n",
       "    </tr>\n",
       "    <tr>\n",
       "      <th>17587</th>\n",
       "      <td>2023-11-08 01:43</td>\n",
       "      <td>Dynazty</td>\n",
       "      <td>Heartless Madness</td>\n",
       "      <td>239866</td>\n",
       "    </tr>\n",
       "    <tr>\n",
       "      <th>17588</th>\n",
       "      <td>2023-11-08 01:47</td>\n",
       "      <td>Fox Stevenson</td>\n",
       "      <td>Go Like</td>\n",
       "      <td>233946</td>\n",
       "    </tr>\n",
       "  </tbody>\n",
       "</table>\n",
       "<p>17589 rows × 4 columns</p>\n",
       "</div>"
      ],
      "text/plain": [
       "                endTime        artistName                 trackName  msPlayed\n",
       "0      2022-11-08 13:26          Disciple  Dear X, You Don't Own Me    121303\n",
       "1      2022-11-08 14:16  Hollywood Undead           Day Of The Dead     99912\n",
       "2      2022-11-09 01:47          Slipknot                   Duality    252613\n",
       "3      2022-11-09 01:51   All Good Things             For the Glory    279308\n",
       "4      2022-11-09 01:55           Solence              Animal in Me      5665\n",
       "...                 ...               ...                       ...       ...\n",
       "17584  2023-11-08 01:39     Fox Stevenson                   Go Like       464\n",
       "17585  2023-11-08 01:39         Amaranthe         Drop Dead Cynical         0\n",
       "17586  2023-11-08 01:39      Virtual Riot              Energy Drink    281240\n",
       "17587  2023-11-08 01:43           Dynazty         Heartless Madness    239866\n",
       "17588  2023-11-08 01:47     Fox Stevenson                   Go Like    233946\n",
       "\n",
       "[17589 rows x 4 columns]"
      ]
     },
     "execution_count": 5,
     "metadata": {},
     "output_type": "execute_result"
    }
   ],
   "source": [
    "# 스트리밍 내역 테이블 결합\n",
    "history= pd.concat([history_1, history_2]).reset_index(drop= True)\n",
    "history"
   ]
  },
  {
   "cell_type": "markdown",
   "metadata": {},
   "source": [
    "### 음악을 청취하는 시간대, 청취 시간에 변화가 있었을 것이다."
   ]
  },
  {
   "cell_type": "code",
   "execution_count": 6,
   "metadata": {},
   "outputs": [
    {
     "data": {
      "text/html": [
       "<div>\n",
       "<style scoped>\n",
       "    .dataframe tbody tr th:only-of-type {\n",
       "        vertical-align: middle;\n",
       "    }\n",
       "\n",
       "    .dataframe tbody tr th {\n",
       "        vertical-align: top;\n",
       "    }\n",
       "\n",
       "    .dataframe thead th {\n",
       "        text-align: right;\n",
       "    }\n",
       "</style>\n",
       "<table border=\"1\" class=\"dataframe\">\n",
       "  <thead>\n",
       "    <tr style=\"text-align: right;\">\n",
       "      <th></th>\n",
       "      <th>endTime</th>\n",
       "      <th>artistName</th>\n",
       "      <th>trackName</th>\n",
       "      <th>msPlayed</th>\n",
       "      <th>streamingDate</th>\n",
       "      <th>streamingYear</th>\n",
       "      <th>streamingMonth</th>\n",
       "      <th>streamingYearMonth</th>\n",
       "      <th>streamingDay</th>\n",
       "      <th>streamingHour</th>\n",
       "      <th>playTime</th>\n",
       "    </tr>\n",
       "  </thead>\n",
       "  <tbody>\n",
       "    <tr>\n",
       "      <th>0</th>\n",
       "      <td>2022-11-08 13:26:00</td>\n",
       "      <td>Disciple</td>\n",
       "      <td>Dear X, You Don't Own Me</td>\n",
       "      <td>121303</td>\n",
       "      <td>2022-11-08</td>\n",
       "      <td>2022</td>\n",
       "      <td>11</td>\n",
       "      <td>2022-11</td>\n",
       "      <td>8</td>\n",
       "      <td>13</td>\n",
       "      <td>2.021717</td>\n",
       "    </tr>\n",
       "    <tr>\n",
       "      <th>1</th>\n",
       "      <td>2022-11-08 14:16:00</td>\n",
       "      <td>Hollywood Undead</td>\n",
       "      <td>Day Of The Dead</td>\n",
       "      <td>99912</td>\n",
       "      <td>2022-11-08</td>\n",
       "      <td>2022</td>\n",
       "      <td>11</td>\n",
       "      <td>2022-11</td>\n",
       "      <td>8</td>\n",
       "      <td>14</td>\n",
       "      <td>1.665200</td>\n",
       "    </tr>\n",
       "    <tr>\n",
       "      <th>2</th>\n",
       "      <td>2022-11-09 01:47:00</td>\n",
       "      <td>Slipknot</td>\n",
       "      <td>Duality</td>\n",
       "      <td>252613</td>\n",
       "      <td>2022-11-09</td>\n",
       "      <td>2022</td>\n",
       "      <td>11</td>\n",
       "      <td>2022-11</td>\n",
       "      <td>9</td>\n",
       "      <td>1</td>\n",
       "      <td>4.210217</td>\n",
       "    </tr>\n",
       "    <tr>\n",
       "      <th>3</th>\n",
       "      <td>2022-11-09 01:51:00</td>\n",
       "      <td>All Good Things</td>\n",
       "      <td>For the Glory</td>\n",
       "      <td>279308</td>\n",
       "      <td>2022-11-09</td>\n",
       "      <td>2022</td>\n",
       "      <td>11</td>\n",
       "      <td>2022-11</td>\n",
       "      <td>9</td>\n",
       "      <td>1</td>\n",
       "      <td>4.655133</td>\n",
       "    </tr>\n",
       "    <tr>\n",
       "      <th>4</th>\n",
       "      <td>2022-11-09 01:55:00</td>\n",
       "      <td>Solence</td>\n",
       "      <td>Animal in Me</td>\n",
       "      <td>5665</td>\n",
       "      <td>2022-11-09</td>\n",
       "      <td>2022</td>\n",
       "      <td>11</td>\n",
       "      <td>2022-11</td>\n",
       "      <td>9</td>\n",
       "      <td>1</td>\n",
       "      <td>0.094417</td>\n",
       "    </tr>\n",
       "  </tbody>\n",
       "</table>\n",
       "</div>"
      ],
      "text/plain": [
       "              endTime        artistName                 trackName  msPlayed  \\\n",
       "0 2022-11-08 13:26:00          Disciple  Dear X, You Don't Own Me    121303   \n",
       "1 2022-11-08 14:16:00  Hollywood Undead           Day Of The Dead     99912   \n",
       "2 2022-11-09 01:47:00          Slipknot                   Duality    252613   \n",
       "3 2022-11-09 01:51:00   All Good Things             For the Glory    279308   \n",
       "4 2022-11-09 01:55:00           Solence              Animal in Me      5665   \n",
       "\n",
       "  streamingDate  streamingYear  streamingMonth streamingYearMonth  \\\n",
       "0    2022-11-08           2022              11            2022-11   \n",
       "1    2022-11-08           2022              11            2022-11   \n",
       "2    2022-11-09           2022              11            2022-11   \n",
       "3    2022-11-09           2022              11            2022-11   \n",
       "4    2022-11-09           2022              11            2022-11   \n",
       "\n",
       "   streamingDay  streamingHour  playTime  \n",
       "0             8             13  2.021717  \n",
       "1             8             14  1.665200  \n",
       "2             9              1  4.210217  \n",
       "3             9              1  4.655133  \n",
       "4             9              1  0.094417  "
      ]
     },
     "execution_count": 6,
     "metadata": {},
     "output_type": "execute_result"
    }
   ],
   "source": [
    "# 스트리밍 시간대-> timestamp로 변경\n",
    "history['endTime']= pd.to_datetime(history['endTime'])\n",
    "# 스트리밍 시간대를 연, 월, 연월, 일, 시간으로 분리\n",
    "history['streamingDate']= history['endTime'].dt.strftime('%Y-%m-%d')\n",
    "history['streamingYear']= history['endTime'].dt.year\n",
    "history['streamingMonth']= history['endTime'].dt.month\n",
    "history['streamingYearMonth']= history['endTime'].dt.strftime('%Y-%m')\n",
    "history['streamingDay']= history['endTime'].dt.day\n",
    "history['streamingHour']= history['endTime'].dt.hour\n",
    "# 스트리밍 시간-> ms to minute-> msPlayed/ 60000\n",
    "history['playTime']= history['msPlayed']/ 60000\n",
    "\n",
    "history.head()"
   ]
  },
  {
   "cell_type": "code",
   "execution_count": 7,
   "metadata": {},
   "outputs": [],
   "source": [
    "# 1. 음악 청취 시간대\n",
    "import matplotlib.pyplot as plt\n",
    "import seaborn as sns"
   ]
  },
  {
   "cell_type": "code",
   "execution_count": 8,
   "metadata": {},
   "outputs": [
    {
     "data": {
      "text/plain": [
       "<AxesSubplot:>"
      ]
     },
     "execution_count": 8,
     "metadata": {},
     "output_type": "execute_result"
    },
    {
     "data": {
      "image/png": "[encoded data removed]",
      "text/plain": [
       "<Figure size 432x288 with 1 Axes>"
      ]
     },
     "metadata": {
      "needs_background": "light"
     },
     "output_type": "display_data"
    }
   ],
   "source": [
    "history['streamingHour'].plot.box()"
   ]
  },
  {
   "cell_type": "markdown",
   "metadata": {},
   "source": [
    "* 주로 새벽과 오전에 많이 청취함\n",
    "* 취침 전(0~2시)에 듣는 경향도 있음"
   ]
  },
  {
   "cell_type": "code",
   "execution_count": 9,
   "metadata": {},
   "outputs": [
    {
     "data": {
      "text/plain": [
       "<AxesSubplot:>"
      ]
     },
     "execution_count": 9,
     "metadata": {},
     "output_type": "execute_result"
    },
    {
     "data": {
      "image/png": "[encoded data removed]",
      "text/plain": [
       "<Figure size 432x288 with 1 Axes>"
      ]
     },
     "metadata": {
      "needs_background": "light"
     },
     "output_type": "display_data"
    }
   ],
   "source": [
    "# 2. 플레이타임\n",
    "# 하루에 얼마나 듣는지?\n",
    "# 일별 playtime 합산\n",
    "# 합산된 시간의 분포 확인\n",
    "daily_playtime= history['playTime'].groupby(history['streamingDate']).sum().reset_index()\n",
    "daily_playtime['playTime'].plot.box()"
   ]
  },
  {
   "cell_type": "markdown",
   "metadata": {},
   "source": [
    "* 주로 하루 50분에서 2시간 가량 청취함\n",
    "* 하루 1시간에서 2시간 청취하는 경우가 가장 많음"
   ]
  },
  {
   "cell_type": "code",
   "execution_count": 10,
   "metadata": {},
   "outputs": [
    {
     "data": {
      "text/html": [
       "<div>\n",
       "<style scoped>\n",
       "    .dataframe tbody tr th:only-of-type {\n",
       "        vertical-align: middle;\n",
       "    }\n",
       "\n",
       "    .dataframe tbody tr th {\n",
       "        vertical-align: top;\n",
       "    }\n",
       "\n",
       "    .dataframe thead th {\n",
       "        text-align: right;\n",
       "    }\n",
       "</style>\n",
       "<table border=\"1\" class=\"dataframe\">\n",
       "  <thead>\n",
       "    <tr style=\"text-align: right;\">\n",
       "      <th></th>\n",
       "      <th>streamingDate</th>\n",
       "      <th>streamingHour</th>\n",
       "      <th>count</th>\n",
       "      <th>streamingYearMonth</th>\n",
       "    </tr>\n",
       "  </thead>\n",
       "  <tbody>\n",
       "    <tr>\n",
       "      <th>0</th>\n",
       "      <td>2022-11-08</td>\n",
       "      <td>13</td>\n",
       "      <td>1</td>\n",
       "      <td>2022-11</td>\n",
       "    </tr>\n",
       "    <tr>\n",
       "      <th>1</th>\n",
       "      <td>2022-11-08</td>\n",
       "      <td>14</td>\n",
       "      <td>1</td>\n",
       "      <td>2022-11</td>\n",
       "    </tr>\n",
       "    <tr>\n",
       "      <th>2</th>\n",
       "      <td>2022-11-09</td>\n",
       "      <td>1</td>\n",
       "      <td>6</td>\n",
       "      <td>2022-11</td>\n",
       "    </tr>\n",
       "    <tr>\n",
       "      <th>3</th>\n",
       "      <td>2022-11-09</td>\n",
       "      <td>2</td>\n",
       "      <td>23</td>\n",
       "      <td>2022-11</td>\n",
       "    </tr>\n",
       "    <tr>\n",
       "      <th>4</th>\n",
       "      <td>2022-11-09</td>\n",
       "      <td>16</td>\n",
       "      <td>12</td>\n",
       "      <td>2022-11</td>\n",
       "    </tr>\n",
       "    <tr>\n",
       "      <th>...</th>\n",
       "      <td>...</td>\n",
       "      <td>...</td>\n",
       "      <td>...</td>\n",
       "      <td>...</td>\n",
       "    </tr>\n",
       "    <tr>\n",
       "      <th>1291</th>\n",
       "      <td>2023-11-07</td>\n",
       "      <td>0</td>\n",
       "      <td>12</td>\n",
       "      <td>2023-11</td>\n",
       "    </tr>\n",
       "    <tr>\n",
       "      <th>1292</th>\n",
       "      <td>2023-11-07</td>\n",
       "      <td>1</td>\n",
       "      <td>15</td>\n",
       "      <td>2023-11</td>\n",
       "    </tr>\n",
       "    <tr>\n",
       "      <th>1293</th>\n",
       "      <td>2023-11-07</td>\n",
       "      <td>3</td>\n",
       "      <td>1</td>\n",
       "      <td>2023-11</td>\n",
       "    </tr>\n",
       "    <tr>\n",
       "      <th>1294</th>\n",
       "      <td>2023-11-08</td>\n",
       "      <td>0</td>\n",
       "      <td>9</td>\n",
       "      <td>2023-11</td>\n",
       "    </tr>\n",
       "    <tr>\n",
       "      <th>1295</th>\n",
       "      <td>2023-11-08</td>\n",
       "      <td>1</td>\n",
       "      <td>53</td>\n",
       "      <td>2023-11</td>\n",
       "    </tr>\n",
       "  </tbody>\n",
       "</table>\n",
       "<p>1296 rows × 4 columns</p>\n",
       "</div>"
      ],
      "text/plain": [
       "     streamingDate  streamingHour  count streamingYearMonth\n",
       "0       2022-11-08             13      1            2022-11\n",
       "1       2022-11-08             14      1            2022-11\n",
       "2       2022-11-09              1      6            2022-11\n",
       "3       2022-11-09              2     23            2022-11\n",
       "4       2022-11-09             16     12            2022-11\n",
       "...            ...            ...    ...                ...\n",
       "1291    2023-11-07              0     12            2023-11\n",
       "1292    2023-11-07              1     15            2023-11\n",
       "1293    2023-11-07              3      1            2023-11\n",
       "1294    2023-11-08              0      9            2023-11\n",
       "1295    2023-11-08              1     53            2023-11\n",
       "\n",
       "[1296 rows x 4 columns]"
      ]
     },
     "execution_count": 10,
     "metadata": {},
     "output_type": "execute_result"
    }
   ],
   "source": [
    "# 3. 일별 청취 시간대의 변화 확인\n",
    "# 일별 청취 시간대를 월별로 집계\n",
    "hour_count= history.groupby(['streamingDate', 'streamingHour'])['endTime'].count().reset_index().rename(columns= {'endTime' : 'count'})\n",
    "# 연월 컬럼 추가\n",
    "hour_count['streamingDate']= pd.to_datetime(hour_count['streamingDate'])\n",
    "hour_count['streamingYearMonth']= hour_count['streamingDate'].dt.strftime('%Y-%m')\n",
    "hour_count"
   ]
  },
  {
   "cell_type": "code",
   "execution_count": 16,
   "metadata": {},
   "outputs": [
    {
     "data": {
      "text/plain": [
       "<AxesSubplot:xlabel='streamingYearMonth', ylabel='streamingHour'>"
      ]
     },
     "execution_count": 16,
     "metadata": {},
     "output_type": "execute_result"
    },
    {
     "data": {
      "image/png": "[encoded data removed]",
      "text/plain": [
       "<Figure size 1440x720 with 1 Axes>"
      ]
     },
     "metadata": {
      "needs_background": "light"
     },
     "output_type": "display_data"
    }
   ],
   "source": [
    "plt.figure(figsize= (20, 10))\n",
    "sns.scatterplot(data= hour_count, x= 'streamingYearMonth', y= 'streamingHour',\n",
    "                size= 'count')"
   ]
  },
  {
   "cell_type": "markdown",
   "metadata": {},
   "source": [
    "* 음악 청취가 전반적으로 뜸해짐\n",
    "* 주 청취 시간대가 앞당겨짐"
   ]
  },
  {
   "cell_type": "code",
   "execution_count": null,
   "metadata": {},
   "outputs": [],
   "source": []
  }
 ],
 "metadata": {
  "kernelspec": {
   "display_name": "base",
   "language": "python",
   "name": "python3"
  },
  "language_info": {
   "codemirror_mode": {
    "name": "ipython",
    "version": 3
   },
   "file_extension": ".py",
   "mimetype": "text/x-python",
   "name": "python",
   "nbconvert_exporter": "python",
   "pygments_lexer": "ipython3",
   "version": "3.9.12"
  }
 },
 "nbformat": 4,
 "nbformat_minor": 2
}
